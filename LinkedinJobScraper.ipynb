{
 "cells": [
  {
   "cell_type": "code",
   "execution_count": 74,
   "metadata": {},
   "outputs": [
    {
     "name": "stdout",
     "output_type": "stream",
     "text": [
      "Failed to fetch job listings.\n",
      "jobs found:45\n",
      "Ever: {'eng': 3, 'em': 0, 'maxDate': '2024-05-16'}\n",
      "Ashby: {'eng': 0, 'em': 3, 'maxDate': '2024-05-01'}\n",
      "Airbnb: {'eng': 2, 'em': 0, 'maxDate': '2024-05-16'}\n",
      "LinkedIn: {'eng': 2, 'em': 0, 'maxDate': '2024-05-14'}\n",
      "Open Systems Inc.: {'eng': 2, 'em': 0, 'maxDate': '2024-05-15'}\n",
      "Netflix: {'eng': 2, 'em': 0, 'maxDate': '2024-05-09'}\n",
      "Nike: {'eng': 2, 'em': 0, 'maxDate': '2024-05-13'}\n",
      "Midpoint Markets: {'eng': 2, 'em': 0, 'maxDate': '2024-05-11'}\n",
      "Tagup, Inc.: {'eng': 2, 'em': 0, 'maxDate': '2024-05-10'}\n",
      "Saragossa: {'eng': 2, 'em': 0, 'maxDate': '2024-05-13'}\n",
      "Microsoft: {'eng': 2, 'em': 0, 'maxDate': '2024-05-03'}\n",
      "Slack: {'eng': 2, 'em': 0, 'maxDate': '2024-05-13'}\n"
     ]
    }
   ],
   "source": [
    "import requests\n",
    "import re\n",
    "from bs4 import BeautifulSoup\n",
    "\n",
    "jobs={}\n",
    "seen_jobs={}\n",
    "for i in range(0,51,25):\n",
    "    base_url = f\"https://www.linkedin.com/jobs/search?keywords=software%20engineer%20OR%20engineering%20manager&location=United%20States&pageNum=0&start={i}\"\n",
    "\n",
    "    #target_roles=['Software Engineer','Engineering Manager']\n",
    "    response = requests.get(base_url)\n",
    "    if response.status_code == 200:\n",
    "        soup = BeautifulSoup(response.text, 'html.parser')\n",
    "        job_listings = soup.find_all('div', {'class':'job-search-card'})\n",
    "        for job in job_listings:\n",
    "            try:\n",
    "                date = job.find('time', {'class':'job-search-card__listdate'}).attrs['datetime']\n",
    "            except AttributeError:\n",
    "                date = job.find('time', {'class':'job-search-card__listdate--new'}).attrs['datetime']\n",
    "            title = job.find('h3', {'class': 'base-search-card__title'}).text.strip()\n",
    "            company = job.find('a', {'class': 'hidden-nested-link'}).text.strip()\n",
    "            location = job.find('span', {'class': 'job-search-card__location'}).text.strip()\n",
    "            link = job.find('a', {'class': 'base-card__full-link'}).attrs['href']\n",
    "            pattern = r\"(.*-)(\\d+)\"\n",
    "            sanitized_link = re.search(pattern,link).group(2)\n",
    "\n",
    "            #check cache; skip if already seen\n",
    "            if seen_jobs.get(sanitized_link,'') != '':\n",
    "                #print(f\"we've seen {sanitized_link}\")\n",
    "                continue\n",
    "            else:\n",
    "                seen_jobs[sanitized_link]=True\n",
    "                \n",
    "            #test\n",
    "#             if company != 'Airbnb':\n",
    "#                 continue\n",
    "#             print(f\"title:{title}, id:{sanitized_link}, date:{date}\")\n",
    "    \n",
    "            #initialize kv entry\n",
    "            if company not in jobs:\n",
    "                jobs.setdefault(company,{})\n",
    "                jobs[company]={'eng':0,'em':0,'maxDate':''}\n",
    "                \n",
    "            #increment count\n",
    "            if 'Manager' not in title:\n",
    "                jobs[company]['eng']=jobs.get(company,{}).get('eng',0)+1\n",
    "            else:\n",
    "                jobs[company]['em']=jobs.get(company,{}).get('em',0)+1\n",
    "                \n",
    "            #set max date\n",
    "            jobs[company]['maxDate'] = max(jobs[company]['maxDate'], date)\n",
    "\n",
    "    else:\n",
    "        print(\"Failed to fetch job listings.\")\n",
    "        break\n",
    "print(f\"jobs found:{len(jobs)}\")\n",
    "\n",
    "jobs=dict(sorted(jobs.items(),key=lambda x:x[1]['eng']+x[1]['em'], reverse=True))\n",
    "filtered_jobs={k:v for k,v in jobs.items() if v['eng']+v['em']>1}\n",
    "print('\\n'.join([f\"{key}: {value}\" for key, value in filtered_jobs.items()]))\n",
    "#print('\\n'.join([f\"{key}: {value}\" for key, value in seen_jobs.items()]))"
   ]
  },
  {
   "cell_type": "code",
   "execution_count": null,
   "metadata": {},
   "outputs": [],
   "source": []
  },
  {
   "cell_type": "code",
   "execution_count": null,
   "metadata": {},
   "outputs": [],
   "source": []
  }
 ],
 "metadata": {
  "kernelspec": {
   "display_name": "Python 3",
   "language": "python",
   "name": "python3"
  },
  "language_info": {
   "codemirror_mode": {
    "name": "ipython",
    "version": 3
   },
   "file_extension": ".py",
   "mimetype": "text/x-python",
   "name": "python",
   "nbconvert_exporter": "python",
   "pygments_lexer": "ipython3",
   "version": "3.7.6"
  }
 },
 "nbformat": 4,
 "nbformat_minor": 4
}
