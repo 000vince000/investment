{
 "cells": [
  {
   "cell_type": "raw",
   "metadata": {},
   "source": [
    "from yahooquery import Ticker"
   ]
  },
  {
   "cell_type": "raw",
   "metadata": {},
   "source": [
    "#market = Ticker(['fb', 'aapl', 'amzn', 'nflx'], asynchronous=True)"
   ]
  },
  {
   "cell_type": "raw",
   "metadata": {},
   "source": [
    "#import pandas_datareader as pdr\n",
    "#nasdaqSymbols=pdr.get_nasdaq_symbols()['NASDAQ Symbol'].to_numpy().tolist()"
   ]
  },
  {
   "cell_type": "raw",
   "metadata": {},
   "source": [
    "import bs4 as bs\n",
    "import pickle\n",
    "import requests\n",
    "\n",
    "def save_sp500_tickers():\n",
    "    resp = requests.get('http://en.wikipedia.org/wiki/List_of_S%26P_500_companies')\n",
    "    soup = bs.BeautifulSoup(resp.text, 'lxml')\n",
    "    table = soup.find('table', {'class': 'wikitable sortable'})\n",
    "    tickers = []\n",
    "    for row in table.findAll('tr')[1:]:\n",
    "        ticker = row.findAll('td')[0].text.rstrip()\n",
    "        tickers.append(ticker)\n",
    "        \n",
    "    with open(\"sp500tickers.pickle\",\"wb\") as f:\n",
    "        pickle.dump(tickers,f)\n",
    "        \n",
    "    return tickers"
   ]
  },
  {
   "cell_type": "raw",
   "metadata": {},
   "source": [
    "market = Ticker(save_sp500_tickers(), asynchronous=True)"
   ]
  },
  {
   "cell_type": "raw",
   "metadata": {},
   "source": [
    "import pandas as pd"
   ]
  },
  {
   "cell_type": "raw",
   "metadata": {},
   "source": [
    "balanceSheets=market.balance_sheet()[[\n",
    "    'asOfDate',\n",
    "    'periodType',\n",
    "    'InvestedCapital',\n",
    "    'CashAndCashEquivalents',\n",
    "    'CurrentDeferredLiabilities',\n",
    "    'LongTermDebtAndCapitalLeaseObligation',\n",
    "    'NonCurrentDeferredLiabilities',\n",
    "    'OtherNonCurrentLiabilities',\n",
    "    'CapitalStock',\n",
    "    'CommonStock'\n",
    "]]"
   ]
  },
  {
   "cell_type": "raw",
   "metadata": {},
   "source": [
    "incomeStatements=market.income_statement()[[\n",
    "    'asOfDate',\n",
    "    'periodType',\n",
    "    'EBIT'\n",
    "]]"
   ]
  },
  {
   "cell_type": "raw",
   "metadata": {},
   "source": [
    "valuationMeasures=market.valuation_measures[['asOfDate','MarketCap','periodType']]"
   ]
  },
  {
   "cell_type": "raw",
   "metadata": {},
   "source": [
    "valuationMeasures=valuationMeasures.groupby(['symbol'])['MarketCap'].max().to_frame()"
   ]
  },
  {
   "cell_type": "raw",
   "metadata": {},
   "source": [
    "valuationMeasures"
   ]
  },
  {
   "cell_type": "raw",
   "metadata": {},
   "source": [
    "# 500mm market cap limit"
   ]
  },
  {
   "cell_type": "raw",
   "metadata": {},
   "source": [
    "valuationMeasures = valuationMeasures[valuationMeasures['MarketCap']>500000000]"
   ]
  },
  {
   "cell_type": "raw",
   "metadata": {},
   "source": [
    "mergedBsIs = pd.merge(balanceSheets, incomeStatements, on=['asOfDate','symbol','periodType'])"
   ]
  },
  {
   "cell_type": "raw",
   "metadata": {},
   "source": [
    "mergedBsIsSum = pd.merge(mergedBsIs, valuationMeasures, on=['symbol']).fillna(0)"
   ]
  },
  {
   "cell_type": "raw",
   "metadata": {},
   "source": [
    "mergedBsIsSum = mergedBsIsSum.groupby(['symbol'])['asOfDate',\n",
    "                                  'InvestedCapital',\n",
    "                                  'CashAndCashEquivalents',\n",
    "                                  'CurrentDeferredLiabilities',\n",
    "                                  'LongTermDebtAndCapitalLeaseObligation',\n",
    "                                  'NonCurrentDeferredLiabilities',\n",
    "                                  'OtherNonCurrentLiabilities',\n",
    "                                  'CapitalStock',\n",
    "                                  'CommonStock',\n",
    "                                  'EBIT',\n",
    "                                  'MarketCap'].max()"
   ]
  },
  {
   "cell_type": "raw",
   "metadata": {},
   "source": [
    "roic = mergedBsIsSum.EBIT / mergedBsIsSum.InvestedCapital"
   ]
  },
  {
   "cell_type": "raw",
   "metadata": {},
   "source": [
    "#mergedBsIsSum.EBIT"
   ]
  },
  {
   "cell_type": "raw",
   "metadata": {},
   "source": [
    "#roic"
   ]
  },
  {
   "cell_type": "raw",
   "metadata": {},
   "source": [
    "cash = mergedBsIsSum.CashAndCashEquivalents"
   ]
  },
  {
   "cell_type": "raw",
   "metadata": {},
   "source": [
    "#cash"
   ]
  },
  {
   "cell_type": "raw",
   "metadata": {},
   "source": [
    "debt = mergedBsIsSum.CurrentDeferredLiabilities+mergedBsIsSum.LongTermDebtAndCapitalLeaseObligation+mergedBsIsSum.NonCurrentDeferredLiabilities+mergedBsIsSum.OtherNonCurrentLiabilities"
   ]
  },
  {
   "cell_type": "raw",
   "metadata": {},
   "source": [
    "#debt"
   ]
  },
  {
   "cell_type": "raw",
   "metadata": {},
   "source": [
    "preferredequity = mergedBsIsSum.CapitalStock-mergedBsIsSum.CommonStock"
   ]
  },
  {
   "cell_type": "raw",
   "metadata": {},
   "source": [
    "#preferredequity"
   ]
  },
  {
   "cell_type": "raw",
   "metadata": {},
   "source": [
    "networth = mergedBsIsSum.InvestedCapital+cash-debt-preferredequity"
   ]
  },
  {
   "cell_type": "raw",
   "metadata": {},
   "source": [
    "#networth"
   ]
  },
  {
   "cell_type": "raw",
   "metadata": {},
   "source": [
    "faustmannRatio = mergedBsIsSum.MarketCap/networth"
   ]
  },
  {
   "cell_type": "raw",
   "metadata": {},
   "source": [
    "faustmannRatio.sort_values(ascending=False)"
   ]
  },
  {
   "cell_type": "raw",
   "metadata": {},
   "source": [
    "#(roic/faustmannRatio).sort_values(ascending=False)"
   ]
  },
  {
   "cell_type": "raw",
   "metadata": {},
   "source": [
    "#criteria: ROIC > 20%"
   ]
  },
  {
   "cell_type": "raw",
   "metadata": {},
   "source": [
    "dfRoic = roic[roic>0.2].to_frame()\n",
    "dfFaustmannRatio = faustmannRatio.to_frame()\n",
    "dfRoicToFaustmann = (roic/faustmannRatio).to_frame()"
   ]
  },
  {
   "cell_type": "raw",
   "metadata": {},
   "source": [
    "dfRoic.columns=['roic']\n",
    "dfFaustmannRatio.columns=['faustmannRatio']\n",
    "dfRoicToFaustmann.columns=['roicToFaustmann']"
   ]
  },
  {
   "cell_type": "raw",
   "metadata": {},
   "source": [
    "dfFaustmannRatio.sort_values(by=['symbol'])"
   ]
  },
  {
   "cell_type": "raw",
   "metadata": {},
   "source": [
    "result = pd.merge(\n",
    "    pd.merge(\n",
    "        pd.merge(mergedBsIsSum,dfRoic,on=['symbol']),\n",
    "        dfFaustmannRatio,\n",
    "        on=['symbol']\n",
    "    ),\n",
    "    dfRoicToFaustmann,\n",
    "    on=['symbol']\n",
    ").sort_values(['roicToFaustmann'],ascending=False)"
   ]
  },
  {
   "cell_type": "raw",
   "metadata": {},
   "source": [
    "result.head(20)"
   ]
  },
  {
   "cell_type": "raw",
   "metadata": {},
   "source": []
  }
 ],
 "metadata": {
  "kernelspec": {
   "display_name": "Python 3",
   "language": "python",
   "name": "python3"
  },
  "language_info": {
   "codemirror_mode": {
    "name": "ipython",
    "version": 3
   },
   "file_extension": ".py",
   "mimetype": "text/x-python",
   "name": "python",
   "nbconvert_exporter": "python",
   "pygments_lexer": "ipython3",
   "version": "3.7.6"
  }
 },
 "nbformat": 4,
 "nbformat_minor": 4
}
